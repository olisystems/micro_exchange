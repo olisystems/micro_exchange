{
 "cells": [
  {
   "cell_type": "code",
   "execution_count": 5,
   "metadata": {},
   "outputs": [],
   "source": [
    "from mesa import Agent, Model\n",
    "from mesa.time import RandomActivation\n"
   ]
  },
  {
   "cell_type": "code",
   "execution_count": 6,
   "metadata": {},
   "outputs": [],
   "source": [
    "class MoneyAgent(Agent):\n",
    "    \n",
    "    \"\"\" An agent with fixed initial wealth.\"\"\"\n",
    "    def __init__(self, unique_id, model):\n",
    "        super().__init__(unique_id, model)\n",
    "        self.wealth = 15\n",
    "\n",
    "    def step(self):\n",
    "        if self.wealth == 0:\n",
    "            return\n",
    "        other_agent = self.random.choice(self.model.schedule.agents)\n",
    "        other_agent.wealth += 1\n",
    "        self.wealth -= 1\n",
    "        agent_N = [\"Investor   \",\"Consumer   \",\"Prosumer   \",\"Retailer   \",\"Distributor\"]\n",
    "     \n",
    "        print (\"Hi, I am \" + agent_N[self.unique_id] + \" and my wealth is \" + str(self.wealth))"
   ]
  },
  {
   "cell_type": "code",
   "execution_count": 7,
   "metadata": {
    "scrolled": true
   },
   "outputs": [],
   "source": [
    "class MoneyModel(Model):\n",
    "    \n",
    "    \"\"\"A model with some number of agents.\"\"\"\n",
    "   \n",
    "    def __init__(self, N):\n",
    "        self.num_agents = N\n",
    "   \n",
    "        \n",
    "        self.schedule = RandomActivation(self)\n",
    "        \n",
    "        # Create agents  \n",
    "        \n",
    "        for i in range(self.num_agents):\n",
    "            \n",
    "            a = MoneyAgent(i, self)\n",
    "            self.schedule.add(a)\n",
    "\n",
    "    def step(self):\n",
    "        '''Advance the model by one step.'''\n",
    "        self.schedule.step()"
   ]
  },
  {
   "cell_type": "code",
   "execution_count": 8,
   "metadata": {},
   "outputs": [
    {
     "name": "stdout",
     "output_type": "stream",
     "text": [
      "Hi, I am Investor    and my wealth is 15\n"
     ]
    }
   ],
   "source": [
    "empty_model = MoneyModel(1)\n",
    "empty_model.step()"
   ]
  },
  {
   "cell_type": "code",
   "execution_count": 10,
   "metadata": {},
   "outputs": [],
   "source": [
    "import matplotlib.pyplot as plt\n",
    "%matplotlib inline\n",
    "plt.show()\n"
   ]
  },
  {
   "cell_type": "code",
   "execution_count": 21,
   "metadata": {},
   "outputs": [
    {
     "name": "stdout",
     "output_type": "stream",
     "text": [
      "Hi, I am Retailer    and my wealth is 14\n",
      "Hi, I am Consumer    and my wealth is 14\n",
      "Hi, I am Prosumer    and my wealth is 17\n",
      "Hi, I am Investor    and my wealth is 14\n",
      "Hi, I am Distributor and my wealth is 15\n"
     ]
    },
    {
     "data": {
      "text/plain": [
       "(array([2., 0., 0., 2., 0., 0., 0., 0., 0., 1.]),\n",
       " array([14. , 14.3, 14.6, 14.9, 15.2, 15.5, 15.8, 16.1, 16.4, 16.7, 17. ]),\n",
       " <a list of 10 Patch objects>)"
      ]
     },
     "execution_count": 21,
     "metadata": {},
     "output_type": "execute_result"
    },
    {
     "data": {
      "image/png": "[encoded data removed]",
      "text/plain": [
       "<Figure size 432x288 with 1 Axes>"
      ]
     },
     "metadata": {
      "needs_background": "light"
     },
     "output_type": "display_data"
    }
   ],
   "source": [
    "model = MoneyModel(5)\n",
    "\n",
    "for i in range(1):\n",
    "    model.step()\n",
    "    \n",
    "agent_wealth = [a.wealth for a in model.schedule.agents]\n",
    "plt.hist(agent_wealth)"
   ]
  },
  {
   "cell_type": "code",
   "execution_count": null,
   "metadata": {},
   "outputs": [],
   "source": []
  }
 ],
 "metadata": {
  "kernelspec": {
   "display_name": "Python 3",
   "language": "python",
   "name": "python3"
  },
  "language_info": {
   "codemirror_mode": {
    "name": "ipython",
    "version": 3
   },
   "file_extension": ".py",
   "mimetype": "text/x-python",
   "name": "python",
   "nbconvert_exporter": "python",
   "pygments_lexer": "ipython3",
   "version": "3.7.4"
  }
 },
 "nbformat": 4,
 "nbformat_minor": 2
}
